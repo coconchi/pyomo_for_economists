{
 "cells": [
  {
   "cell_type": "markdown",
   "metadata": {},
   "source": [
    "Welcome! The goal of this notebook is to familiarize economists with the numerical optimization techniques often required for quantitative work, as well as a fairly blatant attempt to sway others towards doing such work in open source software such as Python/Pyomo (or Julia/JuMP, which is faster but I think less flexible in the types of nonlinear problems it can easily adapt to) and combine resources.\n",
    "\n",
    "In this notebook, I'll introduce some problems you may encounter in classwork and how you would tackle such problems using numerical optimization (even if the problems may have direct solutions), explaining the concepts as they arise.\n",
    "\n",
    "### Prerequisites \n",
    "- Python installation of 2.7 or 3.4+, I recommend Anaconda https://www.anaconda.com/products/individual\n",
    "- Pyomo, which can be installed from the directions at https://pyomo.readthedocs.io/en/stable/installation.html\n",
    "- Optimization solvers such as ipopt -- ```conda install -c conda-forge ipopt``` (Note: you may have to debug this, I had to debug a bit on Ubuntu but directions are platform specific). You can install this without Anaconda, but it is extremely complicated. Using conda is **strongly** recommended. \n",
    "- Numpy, ```conda install numpy```\n"
   ]
  },
  {
   "cell_type": "markdown",
   "metadata": {},
   "source": [
    "### Problem 1. Solving for an optimal consumption bundle / simple nonlinear programming problem\n",
    "\n",
    "Consider the consumer's maximization problem of \n",
    "$$\\max_{\\{x_i\\}_{i=1}^N} U(x_1,\\dots,x_n)$$ subject to the standard budget constraint that $$\\sum_i p_ix_i \\leq w.$$\n",
    "\n",
    "Suppose the number of goods is N=2.\n",
    "\n",
    "Let's begin by assuming $U(\\cdot)$ is Cobb Douglas with equal shares, i.e. $U(x_1,x_2)=x_1^{1/2}x_2^{1/2}$. Let's also assume that $p_1=2$, $p_2=1$ and $w=10$. Solving for the optimal consumption bundle using standard techniques, $x_1^*=(1/2)\\times\\frac{w}{p_1}=2.5$ and $x_2^*=5$. But let's pretend for now that this was particularly difficult and we needed to turn to the computer to solve this.\n"
   ]
  },
  {
   "cell_type": "code",
   "execution_count": 1,
   "metadata": {},
   "outputs": [],
   "source": [
    "import numpy as np\n",
    "import pyomo.environ as pyo ### imports pyomo environment\n",
    "from pyomo.opt import SolverFactory, SolverStatus, TerminationCondition ### imports solvers\n",
    "opt = SolverFactory('ipopt') ### Free solver good for nonlinear problems\n",
    "\n",
    "model = pyo.ConcreteModel() ### define an initial model. \n",
    "# Note that this models is concrete because we have real, numeric values for prices\n",
    "# See: https://pyomo.readthedocs.io/en/stable/pyomo_overview/abstract_concrete.html\n",
    "\n",
    "N = 2 # number of goods\n",
    "model.N = N # set this parameter for the model \n",
    "model.i = pyo.RangeSet(1, model.N) # create a set for these goods (goods in range 1 to N)\n",
    "\n",
    "model.alpha = pyo.Param(model.i,within=pyo.NonNegativeReals,default=1.0/N) # set alpha as a vector of parameters \n",
    "# alpha is indexed by the set i\n",
    "# within = fixes the parameter domain to the nonnegative reals\n",
    "# default: set a default value to 1/N\n",
    "\n",
    "model.w = 10\n",
    "model.p = {1:2,2:1} # dictionary of prices\n",
    "model.x = pyo.Var(model.i,within=pyo.NonNegativeReals,initialize=1.0)\n",
    "# set variables, indexed by the set i. These are ultimately set by the optimization process\n",
    "# set domain with within\n",
    "# give a start value to start the optimization\n",
    "\n",
    "def CobbDouglasUtility(model):\n",
    "    # define the utility function, multiplying each x^alpha\n",
    "    # import the model so we can grab the different objects we defined above from it\n",
    "    return pyo.prod(model.x[i]**model.alpha[i] for i in model.i)\n",
    "\n",
    "def BudgetConstraint(model):\n",
    "    # define the budget constraint, adding up each p*x and setting <= w\n",
    "    return(sum(model.p[i]*model.x[i] for i in model.i) <= model.w)\n",
    "\n",
    "# set objective function\n",
    "model.objective = pyo.Objective(rule=CobbDouglasUtility, sense=-1) ### last argument sets objective to maximize; minimize is the default\n",
    "\n",
    "# set constraint\n",
    "model.BC = pyo.Constraint(rule=BudgetConstraint)\n",
    "\n",
    "# call ipopt to solve\n",
    "results = opt.solve(model)"
   ]
  },
  {
   "cell_type": "code",
   "execution_count": 2,
   "metadata": {
    "scrolled": true
   },
   "outputs": [
    {
     "name": "stdout",
     "output_type": "stream",
     "text": [
      "Model unknown\n",
      "\n",
      "  Variables:\n",
      "    x : Size=2, Index=i\n",
      "        Key : Lower : Value              : Upper : Fixed : Stale : Domain\n",
      "          1 :     0 : 2.5000000232267734 :  None : False : False : NonNegativeReals\n",
      "          2 :     0 : 5.0000000464532866 :  None : False : False : NonNegativeReals\n",
      "\n",
      "  Objectives:\n",
      "    objective : Size=1, Index=None, Active=True\n",
      "        Key  : Active : Value\n",
      "        None :   True : 3.535533938780264\n",
      "\n",
      "  Constraints:\n",
      "    BC : Size=1\n",
      "        Key  : Lower : Body               : Upper\n",
      "        None :  None : 10.000000092906834 :  10.0\n"
     ]
    }
   ],
   "source": [
    "if (results.solver.status == SolverStatus.ok) and (results.solver.termination_condition == TerminationCondition.optimal):\n",
    "     model.display()\n",
    "elif results.solver.termination_condition == TerminationCondition.infeasible:\n",
    "     print (\"This is an infeasible problem\")\n",
    "else:     # something else is wrong\n",
    "    print(str(results.solver))"
   ]
  },
  {
   "cell_type": "markdown",
   "metadata": {},
   "source": [
    "Notice here that the optimal values of $x_1$ and $x_2$ are somewhat above the optimal values we calculated. This is because the solver aims to maximize the objective while holding the constraint within some small tolerance of precision. You can adjust this using the parameter ```comparison_tolerance_for_fixed_vars``` (which is set to 1e-05 as a default). In general, adjusting the tolerance would come at the expense of computation time, and I don't foresee the need in most applications to mess around here."
   ]
  },
  {
   "cell_type": "code",
   "execution_count": 104,
   "metadata": {},
   "outputs": [
    {
     "name": "stdout",
     "output_type": "stream",
     "text": [
      "Optimal x1 is 2.5 and optimal x2 is 5.0\n"
     ]
    }
   ],
   "source": [
    "# note that above you can see that the child \"x\" of \"model\" has 2 keys,\n",
    "# 1 and 2. This gives us the hint that x is a dictionary that we can \n",
    "# subset just like any other!\n",
    "\n",
    "x1 = np.round(model.x[1].value,4) ### enough to round off any tolerance errors\n",
    "x2 = np.round(model.x[2].value, 4)\n",
    "print(\"Optimal x1 is\",x1,\"and optimal x2 is\",x2)"
   ]
  },
  {
   "cell_type": "code",
   "execution_count": 11,
   "metadata": {},
   "outputs": [
    {
     "data": {
      "text/plain": [
       "3.535533938780264"
      ]
     },
     "execution_count": 11,
     "metadata": {},
     "output_type": "execute_result"
    }
   ],
   "source": [
    "# getting the max value of the objective function:\n",
    "model.objective()"
   ]
  },
  {
   "cell_type": "code",
   "execution_count": 12,
   "metadata": {},
   "outputs": [
    {
     "data": {
      "text/plain": [
       "10.000000092906834"
      ]
     },
     "execution_count": 12,
     "metadata": {},
     "output_type": "execute_result"
    }
   ],
   "source": [
    "# getting fulfilled value of the budget constraint:\n",
    "model.BC()"
   ]
  },
  {
   "cell_type": "markdown",
   "metadata": {},
   "source": [
    "Now, the beauty of Pyomo is that we can easily adjust the parameters of the model and resolve. \n",
    "\n",
    "Suppose now that $N=3$, and $U(\\cdot)$ is quasilinear, i.e. $U(x_1,x_2,x_3)=x_1+\\sqrt{x_2\\times x_3}$. And now suppose that $\\hat{p} = (1,2,2)$."
   ]
  },
  {
   "cell_type": "code",
   "execution_count": 13,
   "metadata": {},
   "outputs": [],
   "source": [
    "model = pyo.ConcreteModel() ### define an initial model\n",
    "N = 3\n",
    "model.N = N\n",
    "model.i = pyo.RangeSet(1, model.N)\n",
    "model.p = {1:2,2:1,3:1}\n",
    "model.x = pyo.Var(model.i,within=pyo.PositiveReals,initialize=1.0)\n",
    "model.w = 10\n",
    "\n",
    "\n",
    "def QLinearUtility(model):\n",
    "    return model.x[1]+(model.x[2]*model.x[3])**(1/2)\n",
    "\n",
    "model.objective = pyo.Objective(rule=QLinearUtility, sense=-1)\n",
    "model.BC = pyo.Constraint(rule=BudgetConstraint)\n",
    "results = opt.solve(model)"
   ]
  },
  {
   "cell_type": "code",
   "execution_count": 14,
   "metadata": {},
   "outputs": [
    {
     "name": "stdout",
     "output_type": "stream",
     "text": [
      "Optimal x1 is 3.1099 optimal x2 is 1.8901 optimal x3 is 1.8901\n"
     ]
    }
   ],
   "source": [
    "x1 = np.round(model.x[1].value, 4) ### enough to round off any tolerance errors\n",
    "x2 = np.round(model.x[2].value, 4)\n",
    "x3 = np.round(model.x[3].value, 4)\n",
    "\n",
    "print(\"Optimal x1 is\",x1,\"optimal x2 is\",x2,\"optimal x3 is\",x3)"
   ]
  },
  {
   "cell_type": "markdown",
   "metadata": {},
   "source": [
    "Notice that in order to change a few parameters and functional forms, we had to create a whole new model. However, Pyomo provides another class which makes changing data quite a bit easier."
   ]
  },
  {
   "cell_type": "code",
   "execution_count": 191,
   "metadata": {},
   "outputs": [],
   "source": [
    "N =  3\n",
    "model = pyo.AbstractModel()\n",
    "\n",
    "model.N = pyo.Param()\n",
    "model.i = pyo.RangeSet(1, model.N)\n",
    "model.p = pyo.Param(model.i,within=pyo.PositiveReals)\n",
    "model.x = pyo.Var(model.i,within=pyo.PositiveReals,initialize=1.0)\n",
    "model.w = pyo.Param(default=10)\n",
    "\n",
    "model.objective = pyo.Objective(rule=QLinearUtility, sense=-1)\n",
    "model.BC = pyo.Constraint(rule=BudgetConstraint)"
   ]
  },
  {
   "cell_type": "markdown",
   "metadata": {},
   "source": [
    "Note that the above code is fairly similar to before, except for that we haven't defined any data at the time of creation. To do so, we create an instance which will read from a Python dict of the following form:"
   ]
  },
  {
   "cell_type": "code",
   "execution_count": 192,
   "metadata": {},
   "outputs": [],
   "source": [
    "data = {None: {\n",
    "    'N':{None: 3},\n",
    "    'p':{1:2,2:1,3:1}\n",
    "}}\n",
    "instance = model.create_instance(data)\n",
    "results = opt.solve(instance) ### for more information on solver output, use tee=True"
   ]
  },
  {
   "cell_type": "markdown",
   "metadata": {},
   "source": [
    "One difference worth noting is that the variable values are now stored in ```instance```. Above, I have overwritten the default value for N to 3, but left alpha and w undefined, as the default value of 10 is fine. By using the initialize and default args above, we can use the AbstractModel() class very similarly to a ConcreteModel(), with the difference being that we need to create an instance first before solving with an AbstractModel(). "
   ]
  },
  {
   "cell_type": "code",
   "execution_count": 193,
   "metadata": {},
   "outputs": [
    {
     "name": "stdout",
     "output_type": "stream",
     "text": [
      "Optimal x1 is 3.1099 optimal x2 is 1.8901 optimal x3 is 1.8901\n"
     ]
    }
   ],
   "source": [
    "x1 = np.round(instance.x[1].value, 4) ### enough to round off any tolerance errors\n",
    "x2 = np.round(instance.x[2].value, 4)\n",
    "x3 = np.round(instance.x[3].value, 4)\n",
    "\n",
    "print(\"Optimal x1 is\",x1,\"optimal x2 is\",x2,\"optimal x3 is\",x3)"
   ]
  },
  {
   "cell_type": "markdown",
   "metadata": {},
   "source": [
    "Suppose we again wanted to change the utility function back to Cobb Douglas and change prices to $\\hat{p}=(1,1,1)$, then we would simply run:"
   ]
  },
  {
   "cell_type": "code",
   "execution_count": 194,
   "metadata": {},
   "outputs": [
    {
     "name": "stdout",
     "output_type": "stream",
     "text": [
      "Optimal x1 is 3.3333 optimal x2 is 3.3333 optimal x3 is 3.3333\n"
     ]
    }
   ],
   "source": [
    "model.del_component(model.w) ### There's no need to delete w here, I'm just showing how you can\n",
    "model.objective.deactivate() ### deactivate old objective function which is q-linear\n",
    "\n",
    "model.w = pyo.Param(default=10)\n",
    "model.alpha = pyo.Param(model.i,within=pyo.NonNegativeReals,default=1.0/N)\n",
    "model.new_objective = pyo.Objective(rule=CobbDouglasUtility, sense=-1)\n",
    "\n",
    "data[None]['p']={1: 1, 2: 1, 3: 1} ### change prices in dict\n",
    "instance = model.create_instance(data)\n",
    "results = opt.solve(instance) \n",
    "\n",
    "x1 = np.round(instance.x[1].value, 4) ### enough to round off any tolerance errors\n",
    "x2 = np.round(instance.x[2].value, 4)\n",
    "x3 = np.round(instance.x[3].value, 4)\n",
    "\n",
    "print(\"Optimal x1 is\",x1,\"optimal x2 is\",x2,\"optimal x3 is\",x3)"
   ]
  },
  {
   "cell_type": "markdown",
   "metadata": {},
   "source": [
    "### Problem 2. Solving for parameter values of a workhorse trade model (the Armington model)\n",
    "\n",
    "Consider the following setup: There are $1,\\dots,N$ countries in the world. Consumers in each country consume a varieties of a traded good using CES demand an with elasticity of substitution over goods denoted $\\sigma$. Labor is the only factor of production which is inelasticity supplied and assumed to be immobile. Trade between countries is costly (iceberg trade costs between i and j are denoted $\\tau_{ji} \\geq 1$ ) and the no-arbitrade condition applies, meaning that if $p_j$ is the price of a good in country $j$ and $p_{ji}$ is the price of country $j$'s output in country $i$, then we must have that $p_{ji}=\\tau_{ji} p_j$. Each country produces a different variety of the good, known as the Armington assumption. Locations are characterized by productivities/marginal productivities of labor $A_i$. \n",
    "\n",
    "The main equation that defines the equilibrium of the Armington model is the goods market clearing condtion, or more simply that import demand = export supply:\n",
    "\\begin{equation}\n",
    "w_iL_i = \\sum_{j=1}^N w_jL_j \\pi_{ji},\n",
    "\\end{equation}\n",
    "where $\\pi_{ji}$ is the share of expenditure country $i$ spends on goods from country $j$. In short, this basically says that consumer spending on goods from different countries (the RHS) cannot exceed their income (the LHS), for all countries $i$.\n",
    "\n",
    "CES demand tells us that the share of expenditure country $i$ spends on goods from country $j$ is given by\n",
    "$\\pi_{ji} =X_{ji}/Y_i= p_{ji}^{1-\\sigma} P_i^{\\sigma-1}$, where $P_i^{1-\\sigma}=\\sum_l p_{li}^{1-\\sigma}$. But if production of each good in each country is perfectly competitive, then $p_i=w_i/A_i$. Therefore, the price in country $i$ of consuming one unit from country $j$ is:\n",
    "$p_{ji}=\\tau_{ji}\\frac{w_j}{A_j}$. Therefore, $$\\pi_{ji}= \\frac{\\left(\\tau_{ji}\\frac{w_j}{A_j}\\right)^{1-\\sigma}}{\\sum_l \\left(\\tau_{li}\\frac{w_l}{A_l}\\right)^{1-\\sigma}}.$$\n",
    "\n",
    "#### (Jump to here if you only care about the objective statement) This implies that the main equilibrium clearing condition is given by \n",
    "\\begin{equation}\n",
    "w_iL_i = \\sum_{j=1}^N w_jL_j\\frac{\\left(\\tau_{ji}\\frac{w_j}{A_j}\\right)^{1-\\sigma}}{\\sum_l \\left(\\tau_{li}\\frac{w_l}{A_l}\\right)^{1-\\sigma}}, \\forall i=1,\\dots,N.\n",
    "\\end{equation}\n",
    "\n",
    "Reformulating this for simplicity (which greatly helps in computation), we obtain\n",
    "\n",
    "$$w_iL_iP_i^{1-\\sigma} = \\sum_{j=1}^N w_jL_j \\left(\\tau_{ji}\\frac{w_j}{A_j} \\right)^{1-\\sigma}, \\forall i=1,\\dots,N,$$\n",
    "\n",
    "with $P_i^{1-\\sigma}=\\sum_l \\left(\\tau_{li}\\frac{w_l}{A_l}\\right)^{1-\\sigma}$.\n",
    "Suppose we have information on the wages of workers in each country ($w_i$) and its total population stock ($L_i$), as well as the trade costs between each country pair ($\\tau_{ji}$) and the elasticity of substitution ($\\sigma=6$), but we don't know the productivities of each country $A_i$. The equilibrium clearing condition above provides us $N$ equations (i.e. one market clearing condition for each country $i$), which should be sufficient to solve for the N unknowns $A_1, \\dots, A_N$. But, you'll notice that $A_1, \\dots, A_N$ do not admit a closed form solution, and so we need to solve for these values using numerical optimization. These values will $\\textbf{not}$ be unique, but they will be unique up to scale, so we can set the sum of the productivities equal to a normalizing constant (the choice of this will be important).\n",
    "\n",
    "I've skipped alot of details because they're not really important here. But for more information on the setup of this model, see here:\n",
    "https://scholar.princeton.edu/sites/default/files/zidar/files/connecting_theory_empirics_allen_gravity.pdf"
   ]
  },
  {
   "cell_type": "code",
   "execution_count": 150,
   "metadata": {},
   "outputs": [],
   "source": [
    "sum_productivities = 200000.0 ### You might need to tweak this up/down to achieve convergence\n",
    "productivity_initial_guess = 1000.0 ### Same here\n",
    "model = pyo.AbstractModel()\n",
    "\n",
    "model.i = pyo.Set()\n",
    "model.w = pyo.Param(model.i)\n",
    "model.L = pyo.Param(model.i)\n",
    "model.tau = pyo.Param(model.i,model.i)\n",
    "model.A = pyo.Var(model.i,domain=pyo.NonNegativeReals, initialize=productivity_initial_guess)\n",
    "model.sigma = 6.0\n",
    "\n",
    "def p_ji(model,j,i):\n",
    "    return (model.tau[j,i]*model.w[j]/model.A[j])**(1-model.sigma)\n",
    "    \n",
    "def Pi(model,i):    \n",
    "    return sum((model.tau[l,i]*model.w[l]/model.A[l])**(1-model.sigma) for l in model.i)\n",
    "\n",
    "def goods_market_clearing(model):\n",
    "    return sum((model.w[i]*model.L[i]*Pi(model,i)-sum(model.w[j]*model.L[j]*p_ji(model,j,i) for j in model.i))**2.0 for i in model.i)\n",
    "\n",
    "def goods_market_clearing_one_good_hold(model,i):\n",
    "    return(model.w[i]*model.L[i]*Pi(model,i)==sum(model.w[j]*model.L[j]*p_ji(model,j,i) for j in model.i))\n",
    "\n",
    "def productivity_sum(model):\n",
    "    return(sum([model.A[i] for i in model.i])==sum_productivities)\n",
    "\n",
    "model.objective = pyo.Objective(rule=goods_market_clearing, sense=1) ### sense = 1 means minimize\n",
    "model.a_fix = pyo.Constraint(rule=productivity_sum)\n",
    "model.one_good_fix = pyo.Constraint(model.i,rule=goods_market_clearing_one_good_hold) ### imposes constraint for all goods"
   ]
  },
  {
   "cell_type": "markdown",
   "metadata": {},
   "source": [
    "What if your data (i.e. parameter values) is stored in a csv file? Read https://pyomo.readthedocs.io/en/stable/working_abstractmodels/data/dataportals.html for more info, but an example is provided below using the two csv files \"wages_pop.csv\" and \"tau.csv\""
   ]
  },
  {
   "cell_type": "code",
   "execution_count": 159,
   "metadata": {},
   "outputs": [],
   "source": [
    "data = pyo.DataPortal()\n",
    "data.load(filename='wages_pop.csv', param=(model.w,model.L), index=model.i)\n",
    "data.load(filename='tau.csv', param=model.tau, format='array')\n",
    "instance = model.create_instance(data)"
   ]
  },
  {
   "cell_type": "markdown",
   "metadata": {},
   "source": [
    "To solve this problem, I find that it is necessary to run the solver mutliple times, until the solver reaches a point at which the objective function is sufficiently small (how small is sufficiently small depends on the problem of interest). Often times you will need to restart the algorithm using the solution values reached by a prior run, which can be done simply by running ```opt.solve(instance)``` without redefining the instance. As such, be prepared that you will need to run the code block below potentially several times. I find that it eventually converges to a point of local infeasibility (with an objective of 9.4329010e+02), but at this level, the solution is good enough."
   ]
  },
  {
   "cell_type": "code",
   "execution_count": 165,
   "metadata": {
    "scrolled": true
   },
   "outputs": [
    {
     "name": "stdout",
     "output_type": "stream",
     "text": [
      "Ipopt 3.13.2: max_iter=200\n",
      "\n",
      "\n",
      "******************************************************************************\n",
      "This program contains Ipopt, a library for large-scale nonlinear optimization.\n",
      " Ipopt is released as open source code under the Eclipse Public License (EPL).\n",
      "         For more information visit http://projects.coin-or.org/Ipopt\n",
      "******************************************************************************\n",
      "\n",
      "This is Ipopt version 3.13.2, running with linear solver mumps.\n",
      "NOTE: Other linear solvers might be more efficient (see Ipopt documentation).\n",
      "\n",
      "Number of nonzeros in equality constraint Jacobian...:    39800\n",
      "Number of nonzeros in inequality constraint Jacobian.:        0\n",
      "Number of nonzeros in Lagrangian Hessian.............:    20100\n",
      "\n",
      "Total number of variables............................:      200\n",
      "                     variables with only lower bounds:      200\n",
      "                variables with lower and upper bounds:        0\n",
      "                     variables with only upper bounds:        0\n",
      "Total number of equality constraints.................:      199\n",
      "Total number of inequality constraints...............:        0\n",
      "        inequality constraints with only lower bounds:        0\n",
      "   inequality constraints with lower and upper bounds:        0\n",
      "        inequality constraints with only upper bounds:        0\n",
      "\n",
      "iter    objective    inf_pr   inf_du lg(mu)  ||d||  lg(rg) alpha_du alpha_pr  ls\n",
      "   0  9.4329014e+02 1.99e+05 1.76e+01  -1.0 0.00e+00    -  0.00e+00 0.00e+00   0\n",
      "   1r 9.4329014e+02 1.99e+05 9.99e+02   5.3 0.00e+00    -  0.00e+00 3.79e-07R  3\n",
      "   2r 2.3009857e+11 2.25e+05 1.92e+07   5.3 7.95e+04    -  5.46e-02 5.93e-02f  1\n",
      "   3r 7.6479129e+10 1.95e+05 1.11e+07   4.6 1.04e+03    -  1.00e+00 5.21e-01f  1\n",
      "   4r 8.2296046e+09 1.96e+05 3.64e+06   4.6 9.59e+02    -  1.00e+00 1.00e+00f  1\n",
      "   5r 1.3846951e+09 1.97e+05 1.49e+06   3.9 7.80e+02    -  1.00e+00 8.16e-01f  1\n",
      "   6r 1.4900686e+08 1.97e+05 4.88e+05   3.9 6.52e+02    -  1.00e+00 1.00e+00h  1\n",
      "   7r 1.6059900e+07 1.98e+05 1.60e+05   3.2 5.12e+02    -  1.00e+00 1.00e+00f  1\n",
      "   8r 1.7621899e+06 1.98e+05 5.16e+04   3.2 3.94e+02    -  1.00e+00 1.00e+00h  1\n",
      "   9r 2.5743914e+05 1.98e+05 1.82e+04   2.5 3.03e+02    -  1.00e+00 9.00e-01f  1\n",
      "iter    objective    inf_pr   inf_du lg(mu)  ||d||  lg(rg) alpha_du alpha_pr  ls\n",
      "  10r 3.1320176e+04 1.99e+05 4.40e+03   2.5 2.68e+02    -  1.00e+00 1.00e+00h  1\n",
      "  11r 6.2848102e+03 1.99e+05 8.94e+02   1.8 2.31e+02    -  3.30e-01 7.74e-01h  1\n",
      "  12r 2.7233856e+03 1.99e+05 4.17e+02   1.1 1.96e+02    -  4.68e-01 4.33e-01h  1\n",
      "  13r 1.6216584e+03 1.99e+05 3.44e+02   0.4 1.73e+02    -  2.17e-01 2.95e-01h  1\n",
      "  14r 1.3614846e+03 1.99e+05 4.91e+02   0.4 1.59e+02    -  6.99e-02 1.06e-01h  1\n",
      "  15r 1.1802750e+03 1.99e+05 4.43e+02   0.4 1.37e+02    -  8.70e-02 1.01e-01h  1\n",
      "  16r 1.0837374e+03 1.99e+05 4.18e+02   0.4 1.42e+02    -  6.95e-02 5.71e-02h  1\n",
      "  17r 9.2619334e+02 1.99e+05 5.82e+02   0.4 1.10e+02    -  4.76e-02 1.39e-01h  1\n",
      "  18r 8.1155206e+02 1.99e+05 8.50e+02   0.4 8.72e+01    -  9.81e-02 1.48e-01h  1\n",
      "  19r 7.6051764e+02 1.99e+05 7.45e+02   0.4 5.24e+01    -  8.60e-02 1.25e-01h  1\n",
      "iter    objective    inf_pr   inf_du lg(mu)  ||d||  lg(rg) alpha_du alpha_pr  ls\n",
      "  20r 7.2063804e+02 1.99e+05 9.91e+02   0.4 2.30e+01    -  1.18e-01 2.90e-01h  1\n",
      "  21r 7.3960496e+02 1.99e+05 7.42e+02   0.4 6.71e+00    -  3.36e-01 2.52e-01h  1\n",
      "  22r 7.7710768e+02 1.99e+05 5.51e+02   0.4 1.53e+01    -  2.67e-01 2.58e-01h  1\n",
      "  23r 8.5665620e+02 1.99e+05 2.53e+02   0.4 1.45e+01    -  3.59e-01 5.41e-01h  1\n",
      "  24r 9.4393484e+02 1.99e+05 2.37e+02   0.4 8.22e+00    -  6.78e-01 1.00e+00h  1\n",
      "  25r 9.4808527e+02 1.99e+05 1.73e-02   0.4 4.43e-01    -  1.00e+00 1.00e+00h  1\n",
      "  26r 9.4318173e+02 1.99e+05 8.09e+00  -1.7 7.35e-01    -  9.74e-01 9.18e-01f  1\n",
      "  27r 9.4321951e+02 1.99e+05 6.31e-03  -1.7 6.60e-02    -  1.00e+00 1.00e+00f  1\n",
      "  28r 9.4328438e+02 1.99e+05 3.57e-01  -3.8 6.09e-03    -  1.00e+00 9.90e-01f  1\n",
      "  29r 9.4329029e+02 1.99e+05 5.29e-07  -3.8 6.61e-05    -  1.00e+00 1.00e+00f  1\n",
      "iter    objective    inf_pr   inf_du lg(mu)  ||d||  lg(rg) alpha_du alpha_pr  ls\n",
      "  30r 9.4329010e+02 1.99e+05 1.18e-09  -5.7 4.61e-05    -  1.00e+00 1.00e+00f  1\n",
      "\n",
      "Number of Iterations....: 30\n",
      "\n",
      "                                   (scaled)                 (unscaled)\n",
      "Objective...............:   9.4329010183340017e+02    9.4329010183340017e+02\n",
      "Dual infeasibility......:   1.8556554712122452e+01    1.8556554712122452e+01\n",
      "Constraint violation....:   1.9909229986671745e+05    1.9909229986671745e+05\n",
      "Complementarity.........:   2.7612648098669908e-09    2.7612648098669908e-09\n",
      "Overall NLP error.......:   1.9909229986671745e+05    1.9909229986671745e+05\n",
      "\n",
      "\n",
      "Number of objective function evaluations             = 36\n",
      "Number of objective gradient evaluations             = 3\n",
      "Number of equality constraint evaluations            = 36\n",
      "Number of inequality constraint evaluations          = 0\n",
      "Number of equality constraint Jacobian evaluations   = 33\n",
      "Number of inequality constraint Jacobian evaluations = 0\n",
      "Number of Lagrangian Hessian evaluations             = 31\n",
      "Total CPU secs in IPOPT (w/o function evaluations)   =      2.608\n",
      "Total CPU secs in NLP function evaluations           =      7.202\n",
      "\n",
      "EXIT: Converged to a point of local infeasibility. Problem may be infeasible.\n",
      "WARNING: Loading a SolverResults object with a warning status into\n",
      "    model=unknown;\n",
      "        message from solver=Ipopt 3.13.2\\x3a Converged to a locally infeasible\n",
      "        point. Problem may be infeasible.\n"
     ]
    }
   ],
   "source": [
    "opt.options['max_iter'] = 200\n",
    "\n",
    "### Our objective function is defined as the squared sum of all lhs and rhs errors\n",
    "### And our constraints are simply that the lhs and rhs equal for each i\n",
    "### However, by Walras' law, one market is solved automatically, and objective acts as solving one market,\n",
    "### so we need to omit two market constraints\n",
    "for i in range(1,3): \n",
    "      instance.one_good_fix[i].deactivate()\n",
    "results = opt.solve(instance,tee=True)"
   ]
  },
  {
   "cell_type": "markdown",
   "metadata": {},
   "source": [
    "Now let's display retrieved solutions by looping over all variable values:"
   ]
  },
  {
   "cell_type": "code",
   "execution_count": 166,
   "metadata": {},
   "outputs": [
    {
     "name": "stdout",
     "output_type": "stream",
     "text": [
      "4.762\n",
      "3.157\n",
      "5.259\n",
      "4.693\n",
      "4.762\n",
      "3.394\n",
      "4.292\n",
      "6.103\n",
      "3.248\n",
      "3.995\n",
      "4.603\n",
      "3.763\n",
      "4.646\n",
      "3.131\n",
      "5.45\n",
      "4.909\n",
      "4.515\n",
      "4.789\n",
      "4.345\n",
      "4.989\n",
      "5.839\n",
      "4.779\n",
      "6.853\n",
      "5.957\n",
      "4.725\n",
      "3.837\n",
      "3.584\n",
      "5.108\n",
      "4.061\n",
      "4.658\n",
      "4.714\n",
      "4.338\n",
      "3.935\n",
      "3.3\n",
      "4.739\n",
      "4.457\n",
      "5.008\n",
      "4.437\n",
      "4.957\n",
      "4.007\n",
      "4.797\n",
      "3.675\n",
      "4.256\n",
      "4.659\n",
      "4.18\n",
      "4.395\n",
      "4.786\n",
      "2.885\n",
      "6.555\n",
      "6.346\n",
      "4.05\n",
      "5.257\n",
      "3.019\n",
      "3.515\n",
      "4.101\n",
      "4.69\n",
      "4.263\n",
      "3.194\n",
      "3.509\n",
      "4.884\n",
      "4.773\n",
      "3.227\n",
      "4.304\n",
      "3.977\n",
      "3.62\n",
      "5.629\n",
      "4.093\n",
      "4.709\n",
      "5.066\n",
      "6.499\n",
      "3.484\n",
      "4.652\n",
      "5.546\n",
      "4.733\n",
      "4.348\n",
      "5.524\n",
      "4.137\n",
      "3.383\n",
      "3.186\n",
      "4.269\n",
      "3.919\n",
      "4.817\n",
      "4.791\n",
      "3.169\n",
      "4.316\n",
      "4.297\n",
      "3.335\n",
      "4.268\n",
      "4.509\n",
      "4.569\n",
      "4.86\n",
      "4.841\n",
      "3.311\n",
      "4.481\n",
      "3.561\n",
      "4.158\n",
      "2.398\n",
      "5.915\n",
      "1.812\n",
      "3.661\n",
      "4.603\n",
      "2.335\n",
      "3.817\n",
      "4.967\n",
      "5.556\n",
      "3.653\n",
      "3.295\n",
      "4.012\n",
      "4.827\n",
      "4.53\n",
      "3.196\n",
      "5.159\n",
      "6.401\n",
      "4.649\n",
      "4.541\n",
      "4.543\n",
      "2.567\n",
      "4.653\n",
      "4.56\n",
      "4.702\n",
      "5.462\n",
      "5.213\n",
      "4.227\n",
      "6.328\n",
      "3.922\n",
      "3.761\n",
      "5.913\n",
      "4.628\n",
      "3.603\n",
      "4.675\n",
      "5.148\n",
      "4.967\n",
      "3.828\n",
      "5.373\n",
      "2.864\n",
      "5.679\n",
      "6.393\n",
      "5.009\n",
      "5.985\n",
      "5.067\n",
      "3.146\n",
      "4.917\n",
      "4.613\n",
      "4.702\n",
      "3.785\n",
      "4.77\n",
      "4.672\n",
      "3.896\n",
      "4.499\n",
      "4.65\n",
      "3.669\n",
      "5.502\n",
      "6.297\n",
      "8.912\n",
      "4.8\n",
      "6.309\n",
      "4.533\n",
      "5.457\n",
      "5.153\n",
      "3.816\n",
      "6.329\n",
      "4.862\n",
      "4.764\n",
      "3.854\n",
      "4.22\n",
      "4.665\n",
      "3.494\n",
      "4.073\n",
      "3.617\n",
      "4.903\n",
      "4.281\n",
      "4.399\n",
      "4.299\n",
      "8.627\n",
      "3.381\n",
      "4.075\n",
      "3.603\n",
      "4.172\n",
      "4.728\n",
      "2.642\n",
      "6.016\n",
      "4.509\n",
      "5.34\n",
      "5.143\n",
      "4.179\n",
      "4.71\n",
      "3.314\n",
      "4.004\n",
      "6.001\n",
      "3.585\n",
      "3.787\n",
      "5.07\n",
      "4.004\n",
      "3.552\n",
      "3.641\n",
      "6.906\n",
      "4.074\n",
      "10.086\n",
      "5.414\n",
      "3.399\n"
     ]
    }
   ],
   "source": [
    "for i in range(1,200+1):\n",
    "    print(np.round(instance.A[i].value,3))\n",
    "### If you converge to where I do, first+second values should be 4.762 + 3.157"
   ]
  },
  {
   "cell_type": "markdown",
   "metadata": {},
   "source": [
    "Now, let's check what these implied productivities yield for trade balances for each country and if we think that they are good enough."
   ]
  },
  {
   "cell_type": "code",
   "execution_count": 127,
   "metadata": {},
   "outputs": [],
   "source": [
    "### Redefine these functions to take stored parameter values as arguments, rather than the model class\n",
    "def p_ji_check(j,i):\n",
    "    return (tau[j,i]*w[j]/A[j])**(-5.0)\n",
    "    \n",
    "def Pi_check(i):    \n",
    "    return sum((tau[l,i]*w[l]/A[l])**(-5.0) for l in iso3)\n",
    "\n",
    "def trade_balance(i):\n",
    "    return instance.w[i]*instance.L[i]*Pi_check(i)-sum([w[j]*L[j]*p_ji_check(j,i) for j in iso3])\n",
    "\n",
    "### Save stored parameter values to dictionaries\n",
    "w,L,tau,A = {},{},{},{}\n",
    "iso3 = list(range(1,201))\n",
    "for i in iso3:\n",
    "    w[i] = instance.w[i]\n",
    "    L[i] = instance.L[i]\n",
    "    A[i] = instance.A[i].value\n",
    "    for j in iso3:\n",
    "        tau[i,j] = instance.tau[i,j]"
   ]
  },
  {
   "cell_type": "markdown",
   "metadata": {},
   "source": [
    "Now let's loop over all trade balances for each country."
   ]
  },
  {
   "cell_type": "code",
   "execution_count": 107,
   "metadata": {},
   "outputs": [
    {
     "name": "stdout",
     "output_type": "stream",
     "text": [
      "-0.0016460582369886012\n",
      "-0.5303127474510134\n",
      "0.15084407317466675\n",
      "0.06428930405810951\n",
      "0.06718744947285937\n",
      "-0.612993871095491\n",
      "-0.3978901920810768\n",
      "-0.2927348680843725\n",
      "-0.3933787616186239\n",
      "4.641834141322842\n",
      "-0.4498475886985862\n",
      "-0.2568725511545848\n",
      "0.9954279404551813\n",
      "-0.15744578783605095\n",
      "2.6895871525674098\n",
      "0.07551660264458826\n",
      "-0.303703152365231\n",
      "-0.5461099717669669\n",
      "-0.34461861219557194\n",
      "0.28618823930347914\n",
      "-0.42791186038536244\n",
      "-0.0843038581162116\n",
      "3.028835295168334\n",
      "-0.36921923750632407\n",
      "0.2146210840395284\n",
      "-0.3571126438074368\n",
      "-0.21538744893610057\n",
      "-0.45885207942343614\n",
      "-0.5223105091350484\n",
      "-0.16285792515012193\n",
      "0.6893533745050358\n",
      "-0.21489849487169105\n",
      "11.46394705942076\n",
      "-0.41203731175167446\n",
      "1.2973914967811941\n",
      "1.3313864119105068\n",
      "-0.09876625411413464\n",
      "-0.5741400274164927\n",
      "0.026082646410908128\n",
      "-0.441103677011641\n",
      "1.2952822764693728\n",
      "-0.34306857576125754\n",
      "6.54747917305946\n",
      "-0.3319455763175739\n",
      "0.07261163579897079\n",
      "-0.4484288358217581\n",
      "-0.6314332236023519\n",
      "-0.386703713063109\n",
      "1.4632720735398377\n",
      "-0.0407114543659971\n",
      "4.109532081588032\n",
      "-0.17899387306749082\n",
      "-0.17489502321751338\n",
      "-0.5146825644486408\n",
      "-0.2873605378187517\n",
      "-0.2984703343384821\n",
      "-0.38097456338526026\n",
      "-0.4133664418148206\n",
      "-0.35367097814540216\n",
      "-0.4225213587788734\n",
      "-0.23609318691837716\n",
      "-0.06913576563577817\n",
      "-0.44078247342801224\n",
      "-0.03461535074041355\n",
      "-0.5074564965425635\n",
      "-0.2736665513696141\n",
      "-0.09647848423507033\n",
      "-0.183716170109403\n",
      "-0.1384959407333708\n",
      "0.8723966893567328\n",
      "-0.3929704762757428\n",
      "6.202930331744454\n",
      "-0.2480962106568691\n",
      "1.1834765417862294\n",
      "-0.22584064490957573\n",
      "-0.4331650663144526\n",
      "-0.5697433012074464\n",
      "-0.4987292879643092\n",
      "-0.5491413882643333\n",
      "-0.4147605649128049\n",
      "-0.6066929861582342\n",
      "1.3838177519593695\n",
      "-0.31442801368500684\n",
      "-0.49501103841411875\n",
      "-0.051555394039615676\n",
      "-0.5229158103497011\n",
      "-0.28363303067775375\n",
      "-0.21294773497067543\n",
      "-0.2575531982996461\n",
      "1.2163023357031046\n",
      "-0.2636099607383133\n",
      "-0.003254666546273821\n",
      "13.1576701283465\n",
      "0.5579209907839046\n",
      "-0.4636726706009565\n",
      "-0.3822055544707\n",
      "-0.6407320267943345\n",
      "-0.02439897574745653\n",
      "-0.30387259357893004\n",
      "-0.4140849357302236\n",
      "0.5302486746044324\n",
      "-0.5792335998907081\n",
      "3.0004575588588493\n",
      "1.105852181530223\n",
      "3.5911060568442035\n",
      "-0.3130865381158662\n",
      "-0.338327106066101\n",
      "-0.4398392602692161\n",
      "-0.558105016507787\n",
      "-0.31922808940709635\n",
      "-0.5635251978135305\n",
      "0.6246464379317958\n",
      "0.09410447798779209\n",
      "0.4561428127335653\n",
      "16.584760140459654\n",
      "-0.37311408459443485\n",
      "-0.5048133275715129\n",
      "-0.5360059736583708\n",
      "-0.1680165076704348\n",
      "0.208738206925416\n",
      "-0.3869344803775928\n",
      "0.21108119070253617\n",
      "1.292314019821636\n",
      "0.31606198182476164\n",
      "-0.24072636271594727\n",
      "-0.3174355393910292\n",
      "-0.21301848473374974\n",
      "5.471998973674132\n",
      "3.318087409225004\n",
      "1.5684649276840021\n",
      "-0.17223891936923946\n",
      "1.1395481988384666\n",
      "-0.3204528793882841\n",
      "0.4506348644807046\n",
      "-0.32762441000175957\n",
      "-0.37281165116476145\n",
      "0.30345532588314184\n",
      "-0.22042270040538076\n",
      "-0.17681696809165998\n",
      "0.6716683482178084\n",
      "2.3308097928279476\n",
      "-0.31467893627825727\n",
      "0.32973370444836114\n",
      "-0.29953124296224465\n",
      "-0.42241251678977576\n",
      "-0.37331653308090873\n",
      "1.7316422131308742\n",
      "-0.3423730921221123\n",
      "-0.3210812588034227\n",
      "0.3815346260185427\n",
      "0.9035204847927609\n",
      "1.80071807138984\n",
      "5.644615325668335\n",
      "1.5024074575044022\n",
      "-0.31036633325587804\n",
      "-0.3822135254368137\n",
      "-0.5701001368925727\n",
      "-0.19521826397528175\n",
      "-0.3134701491847295\n",
      "-0.23676157812872073\n",
      "2.0441972442730707\n",
      "-0.37736202147421183\n",
      "-0.35183556043049613\n",
      "-0.3495263212806635\n",
      "-0.25213626591635974\n",
      "-0.11980847851909815\n",
      "-0.32564254081151767\n",
      "-0.4275073941527813\n",
      "-0.19967167884090375\n",
      "-0.061643736277442074\n",
      "1.0460087279830583\n",
      "-0.07874099723802175\n",
      "-0.479967295582991\n",
      "-0.1993180081848121\n",
      "0.0400482741117314\n",
      "0.11723829171714117\n",
      "-0.47100910234410776\n",
      "-0.438565848737749\n",
      "0.7716405014623448\n",
      "-0.42198175503654345\n",
      "8.224075870270251\n",
      "-0.43722554569717664\n",
      "-0.5199672887212435\n",
      "-0.05031069242253888\n",
      "-0.30378994691434374\n",
      "-0.2629758478792711\n",
      "-0.28251619601520805\n",
      "-0.42707660863592534\n",
      "-0.3970518252103431\n",
      "-0.50579866119272\n",
      "-0.5515556892235678\n",
      "-0.4541422715630422\n",
      "-0.42868699639721075\n",
      "-0.579082497958673\n",
      "-0.52778878741701\n",
      "-0.29850463104813857\n",
      "-0.5384807767456523\n",
      "1.0565253275885549\n",
      "-0.47536308912406167\n",
      "-0.6172399637793432\n"
     ]
    }
   ],
   "source": [
    "for i in iso3:\n",
    "    print(trade_balance(i))"
   ]
  },
  {
   "cell_type": "markdown",
   "metadata": {},
   "source": [
    "The trade balances aren't quite zero, but in general are rather small. I'm okay with this especially given that we started with a huge objective function. You may want to try leaving other markets unconstrained to try to reach a smaller objective, but it's importance depends on how precise you need these parameters to be.\n",
    "\n",
    "In this case, we are able to solve for close to optimal solution values. However, some models will be difficult to solve using the \"IPOpt\" solver (a free, non-linear solver), and sometimes commercial solvers are much, much better at finding solutions to particular types of large problems. Cplex, Gurobi, and Knitro are fast, commercial solvers that you can use instead, but they are not free. CONOPT, in particular, may be a good algorithm here, since we have many nonlinear constraints. I haven't figured out how to get these locally without paying, but we have an institutional subscription to GAMS, which includes (demos to some of) these and many more commercial solvers. Pyomo allows you to write your problem as a script readable by GAMS, which allows for use of its more powerful solvers (without having to code in GAMS). Be aware that many solvers require you to start with a small value of your objective function, so you may need to either scale down your variables and/or objective function by a constant, or solve it first locally and then export the problem later. Solvers may also require variable boundaries that others do not. To do so, run:"
   ]
  },
  {
   "cell_type": "code",
   "execution_count": 119,
   "metadata": {},
   "outputs": [
    {
     "data": {
      "text/plain": [
       "('goods_mkt_clearing.gms', 140433346716528)"
      ]
     },
     "execution_count": 119,
     "metadata": {},
     "output_type": "execute_result"
    }
   ],
   "source": [
    "instance.write(\"goods_mkt_clearing.gms\",io_options={'put_results':'dat'})"
   ]
  },
  {
   "cell_type": "markdown",
   "metadata": {},
   "source": [
    "Questions? Comments?\n",
    "\n",
    "Email me: jsayre@berkeley.edu"
   ]
  }
 ],
 "metadata": {
  "kernelspec": {
   "display_name": "Python 3",
   "language": "python",
   "name": "python3"
  },
  "language_info": {
   "codemirror_mode": {
    "name": "ipython",
    "version": 3
   },
   "file_extension": ".py",
   "mimetype": "text/x-python",
   "name": "python",
   "nbconvert_exporter": "python",
   "pygments_lexer": "ipython3",
   "version": "3.7.6"
  }
 },
 "nbformat": 4,
 "nbformat_minor": 2
}
